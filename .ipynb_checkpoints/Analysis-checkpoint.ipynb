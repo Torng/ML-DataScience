{
 "cells": [
  {
   "cell_type": "code",
   "execution_count": 1,
   "id": "economic-color",
   "metadata": {},
   "outputs": [],
   "source": [
    "import pandas as pd\n",
    "import matplotlib.pyplot as plt\n",
    "import numpy as np\n",
    "from typing import List\n",
    "from collections import Counter"
   ]
  },
  {
   "cell_type": "code",
   "execution_count": 3,
   "id": "vulnerable-cologne",
   "metadata": {},
   "outputs": [],
   "source": [
    "f = pd.read_csv('Naflix/netflix_titles.csv')"
   ]
  },
  {
   "cell_type": "code",
   "execution_count": 11,
   "id": "excess-pilot",
   "metadata": {},
   "outputs": [],
   "source": [
    "atype = f[['type']]"
   ]
  },
  {
   "cell_type": "code",
   "execution_count": 18,
   "id": "personalized-soldier",
   "metadata": {},
   "outputs": [
    {
     "data": {
      "text/plain": [
       "type   \n",
       "Movie      5377\n",
       "TV Show    2410\n",
       "dtype: int64"
      ]
     },
     "execution_count": 18,
     "metadata": {},
     "output_type": "execute_result"
    }
   ],
   "source": [
    "atype.value_counts()"
   ]
  },
  {
   "cell_type": "code",
   "execution_count": 9,
   "id": "macro-cartridge",
   "metadata": {},
   "outputs": [
    {
     "data": {
      "image/png": "[encoded data removed]",
      "text/plain": [
       "<Figure size 432x288 with 1 Axes>"
      ]
     },
     "metadata": {
      "needs_background": "light"
     },
     "output_type": "display_data"
    }
   ],
   "source": [
    "plt.hist(f[['type']].values, density=False, color = 'lightblue', cumulative = False, label = \"Type\")\n",
    "plt.legend()\n",
    "plt.xlabel('type')\n",
    "plt.show()"
   ]
  },
  {
   "cell_type": "code",
   "execution_count": 19,
   "id": "underlying-dialogue",
   "metadata": {},
   "outputs": [],
   "source": [
    "country = f[['country']]"
   ]
  },
  {
   "cell_type": "code",
   "execution_count": null,
   "id": "present-tracy",
   "metadata": {},
   "outputs": [],
   "source": [
    "plt.hist(country, density=False, color = 'lightblue', cumulative = False, label = \"Type\")\n",
    "plt.legend()\n",
    "plt.xlabel('type')\n",
    "plt.show()"
   ]
  }
 ],
 "metadata": {
  "kernelspec": {
   "display_name": "Python 3",
   "language": "python",
   "name": "python3"
  },
  "language_info": {
   "codemirror_mode": {
    "name": "ipython",
    "version": 3
   },
   "file_extension": ".py",
   "mimetype": "text/x-python",
   "name": "python",
   "nbconvert_exporter": "python",
   "pygments_lexer": "ipython3",
   "version": "3.7.4"
  }
 },
 "nbformat": 4,
 "nbformat_minor": 5
}
